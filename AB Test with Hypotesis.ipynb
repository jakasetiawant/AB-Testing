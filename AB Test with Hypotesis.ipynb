{
 "cells": [
  {
   "cell_type": "code",
   "execution_count": 1,
   "id": "c891671c",
   "metadata": {},
   "outputs": [],
   "source": [
    "# Packages imports\n",
    "import numpy as np\n",
    "import pandas as pd\n",
    "import scipy.stats as stats\n",
    "import statsmodels.stats.api as sms\n",
    "import matplotlib as mpl\n",
    "import matplotlib.pyplot as plt\n",
    "import seaborn as sns\n",
    "from math import ceil\n",
    "\n",
    "%matplotlib inline\n",
    "\n",
    "# Some plot styling preferences\n",
    "plt.style.use('seaborn-whitegrid')\n",
    "font = {'family' : 'Helvetica',\n",
    "        'weight' : 'bold',\n",
    "        'size'   : 14}\n",
    "\n",
    "mpl.rc('font', **font)"
   ]
  },
  {
   "cell_type": "code",
   "execution_count": 2,
   "id": "d47852f3",
   "metadata": {},
   "outputs": [
    {
     "name": "stdout",
     "output_type": "stream",
     "text": [
      "10514\n"
     ]
    }
   ],
   "source": [
    "effect_size = sms.proportion_effectsize(0.13, 0.14)    # Calculating effect size based on our expected rates\n",
    "\n",
    "required_n = sms.NormalIndPower().solve_power(\n",
    "    effect_size, \n",
    "    power=0.8, \n",
    "    alpha=0.2, \n",
    "    ratio=1\n",
    "    )                                                  # Calculating sample size needed\n",
    "\n",
    "required_n = ceil(required_n)                          # Rounding up to next whole number                          \n",
    "\n",
    "print(required_n)"
   ]
  },
  {
   "cell_type": "code",
   "execution_count": 3,
   "id": "dcacbbbf",
   "metadata": {},
   "outputs": [
    {
     "data": {
      "text/html": [
       "<div>\n",
       "<style scoped>\n",
       "    .dataframe tbody tr th:only-of-type {\n",
       "        vertical-align: middle;\n",
       "    }\n",
       "\n",
       "    .dataframe tbody tr th {\n",
       "        vertical-align: top;\n",
       "    }\n",
       "\n",
       "    .dataframe thead th {\n",
       "        text-align: right;\n",
       "    }\n",
       "</style>\n",
       "<table border=\"1\" class=\"dataframe\">\n",
       "  <thead>\n",
       "    <tr style=\"text-align: right;\">\n",
       "      <th></th>\n",
       "      <th>user_id</th>\n",
       "      <th>timestamp</th>\n",
       "      <th>payment_page</th>\n",
       "      <th>is_convert</th>\n",
       "    </tr>\n",
       "  </thead>\n",
       "  <tbody>\n",
       "    <tr>\n",
       "      <th>0</th>\n",
       "      <td>922696</td>\n",
       "      <td>2017-01-02 13:42:05</td>\n",
       "      <td>new_page</td>\n",
       "      <td>0</td>\n",
       "    </tr>\n",
       "    <tr>\n",
       "      <th>1</th>\n",
       "      <td>781507</td>\n",
       "      <td>2017-01-02 13:42:15</td>\n",
       "      <td>old_page</td>\n",
       "      <td>0</td>\n",
       "    </tr>\n",
       "    <tr>\n",
       "      <th>2</th>\n",
       "      <td>737319</td>\n",
       "      <td>2017-01-02 13:42:22</td>\n",
       "      <td>old_page</td>\n",
       "      <td>0</td>\n",
       "    </tr>\n",
       "    <tr>\n",
       "      <th>3</th>\n",
       "      <td>818377</td>\n",
       "      <td>2017-01-02 13:42:27</td>\n",
       "      <td>new_page</td>\n",
       "      <td>0</td>\n",
       "    </tr>\n",
       "    <tr>\n",
       "      <th>4</th>\n",
       "      <td>725857</td>\n",
       "      <td>2017-01-02 13:42:28</td>\n",
       "      <td>new_page</td>\n",
       "      <td>0</td>\n",
       "    </tr>\n",
       "  </tbody>\n",
       "</table>\n",
       "</div>"
      ],
      "text/plain": [
       "   user_id            timestamp payment_page  is_convert\n",
       "0   922696  2017-01-02 13:42:05     new_page           0\n",
       "1   781507  2017-01-02 13:42:15     old_page           0\n",
       "2   737319  2017-01-02 13:42:22     old_page           0\n",
       "3   818377  2017-01-02 13:42:27     new_page           0\n",
       "4   725857  2017-01-02 13:42:28     new_page           0"
      ]
     },
     "execution_count": 3,
     "metadata": {},
     "output_type": "execute_result"
    }
   ],
   "source": [
    "df = pd.read_csv('eda.csv')\n",
    "\n",
    "df.head()"
   ]
  },
  {
   "cell_type": "code",
   "execution_count": 7,
   "id": "6f7ef3c2",
   "metadata": {},
   "outputs": [
    {
     "name": "stdout",
     "output_type": "stream",
     "text": [
      "<class 'pandas.core.frame.DataFrame'>\n",
      "RangeIndex: 294478 entries, 0 to 294477\n",
      "Data columns (total 4 columns):\n",
      " #   Column        Non-Null Count   Dtype \n",
      "---  ------        --------------   ----- \n",
      " 0   user_id       294478 non-null  int64 \n",
      " 1   timestamp     294478 non-null  object\n",
      " 2   payment_page  294478 non-null  object\n",
      " 3   is_convert    294478 non-null  int64 \n",
      "dtypes: int64(2), object(2)\n",
      "memory usage: 9.0+ MB\n"
     ]
    }
   ],
   "source": [
    "df.info()"
   ]
  },
  {
   "cell_type": "code",
   "execution_count": 15,
   "id": "5bf6ebbf",
   "metadata": {},
   "outputs": [
    {
     "data": {
      "text/html": [
       "<div>\n",
       "<style scoped>\n",
       "    .dataframe tbody tr th:only-of-type {\n",
       "        vertical-align: middle;\n",
       "    }\n",
       "\n",
       "    .dataframe tbody tr th {\n",
       "        vertical-align: top;\n",
       "    }\n",
       "\n",
       "    .dataframe thead th {\n",
       "        text-align: right;\n",
       "    }\n",
       "</style>\n",
       "<table border=\"1\" class=\"dataframe\">\n",
       "  <thead>\n",
       "    <tr style=\"text-align: right;\">\n",
       "      <th></th>\n",
       "      <th>convert</th>\n",
       "    </tr>\n",
       "    <tr>\n",
       "      <th>payment_page</th>\n",
       "      <th></th>\n",
       "    </tr>\n",
       "  </thead>\n",
       "  <tbody>\n",
       "    <tr>\n",
       "      <th>new_page</th>\n",
       "      <td>17498</td>\n",
       "    </tr>\n",
       "    <tr>\n",
       "      <th>old_page</th>\n",
       "      <td>17739</td>\n",
       "    </tr>\n",
       "  </tbody>\n",
       "</table>\n",
       "</div>"
      ],
      "text/plain": [
       "              convert\n",
       "payment_page         \n",
       "new_page        17498\n",
       "old_page        17739"
      ]
     },
     "execution_count": 15,
     "metadata": {},
     "output_type": "execute_result"
    }
   ],
   "source": [
    "df.groupby('payment_page').agg(convert=('is_convert', 'sum'))"
   ]
  },
  {
   "cell_type": "code",
   "execution_count": 16,
   "id": "fc775570",
   "metadata": {},
   "outputs": [
    {
     "name": "stdout",
     "output_type": "stream",
     "text": [
      "There are 3894 users that appear multiple times in the dataset\n"
     ]
    }
   ],
   "source": [
    "session_counts = df['user_id'].value_counts(ascending=False)\n",
    "multi_users = session_counts[session_counts > 1].count()\n",
    "\n",
    "print(f'There are {multi_users} users that appear multiple times in the dataset')"
   ]
  },
  {
   "cell_type": "code",
   "execution_count": 17,
   "id": "fab64f2f",
   "metadata": {},
   "outputs": [
    {
     "name": "stdout",
     "output_type": "stream",
     "text": [
      "The updated dataset now has 286690 entries\n"
     ]
    }
   ],
   "source": [
    "users_to_drop = session_counts[session_counts > 1].index\n",
    "\n",
    "df = df[~df['user_id'].isin(users_to_drop)]\n",
    "print(f'The updated dataset now has {df.shape[0]} entries')"
   ]
  },
  {
   "cell_type": "code",
   "execution_count": 18,
   "id": "e7323de7",
   "metadata": {},
   "outputs": [],
   "source": [
    "control_sample = df[df['payment_page'] == 'old_page'].sample(n=required_n, random_state=22)\n",
    "treatment_sample = df[df['payment_page'] == 'new_page'].sample(n=required_n, random_state=22)\n",
    "\n",
    "ab_test = pd.concat([control_sample, treatment_sample], axis=0)\n",
    "ab_test.reset_index(drop=True, inplace=True)"
   ]
  },
  {
   "cell_type": "code",
   "execution_count": 19,
   "id": "1111e169",
   "metadata": {},
   "outputs": [
    {
     "data": {
      "text/html": [
       "<div>\n",
       "<style scoped>\n",
       "    .dataframe tbody tr th:only-of-type {\n",
       "        vertical-align: middle;\n",
       "    }\n",
       "\n",
       "    .dataframe tbody tr th {\n",
       "        vertical-align: top;\n",
       "    }\n",
       "\n",
       "    .dataframe thead th {\n",
       "        text-align: right;\n",
       "    }\n",
       "</style>\n",
       "<table border=\"1\" class=\"dataframe\">\n",
       "  <thead>\n",
       "    <tr style=\"text-align: right;\">\n",
       "      <th></th>\n",
       "      <th>user_id</th>\n",
       "      <th>timestamp</th>\n",
       "      <th>payment_page</th>\n",
       "      <th>is_convert</th>\n",
       "    </tr>\n",
       "  </thead>\n",
       "  <tbody>\n",
       "    <tr>\n",
       "      <th>0</th>\n",
       "      <td>918762</td>\n",
       "      <td>2017-01-16 11:54:05</td>\n",
       "      <td>old_page</td>\n",
       "      <td>0</td>\n",
       "    </tr>\n",
       "    <tr>\n",
       "      <th>1</th>\n",
       "      <td>820814</td>\n",
       "      <td>2017-01-06 22:16:23</td>\n",
       "      <td>old_page</td>\n",
       "      <td>0</td>\n",
       "    </tr>\n",
       "    <tr>\n",
       "      <th>2</th>\n",
       "      <td>829821</td>\n",
       "      <td>2017-01-03 13:10:13</td>\n",
       "      <td>old_page</td>\n",
       "      <td>0</td>\n",
       "    </tr>\n",
       "    <tr>\n",
       "      <th>3</th>\n",
       "      <td>690313</td>\n",
       "      <td>2017-01-19 15:58:14</td>\n",
       "      <td>old_page</td>\n",
       "      <td>0</td>\n",
       "    </tr>\n",
       "    <tr>\n",
       "      <th>4</th>\n",
       "      <td>674621</td>\n",
       "      <td>2017-01-09 18:16:08</td>\n",
       "      <td>old_page</td>\n",
       "      <td>0</td>\n",
       "    </tr>\n",
       "    <tr>\n",
       "      <th>...</th>\n",
       "      <td>...</td>\n",
       "      <td>...</td>\n",
       "      <td>...</td>\n",
       "      <td>...</td>\n",
       "    </tr>\n",
       "    <tr>\n",
       "      <th>21023</th>\n",
       "      <td>638355</td>\n",
       "      <td>2017-01-18 10:11:10</td>\n",
       "      <td>new_page</td>\n",
       "      <td>0</td>\n",
       "    </tr>\n",
       "    <tr>\n",
       "      <th>21024</th>\n",
       "      <td>677170</td>\n",
       "      <td>2017-01-03 04:06:42</td>\n",
       "      <td>new_page</td>\n",
       "      <td>0</td>\n",
       "    </tr>\n",
       "    <tr>\n",
       "      <th>21025</th>\n",
       "      <td>918873</td>\n",
       "      <td>2017-01-07 07:02:49</td>\n",
       "      <td>new_page</td>\n",
       "      <td>0</td>\n",
       "    </tr>\n",
       "    <tr>\n",
       "      <th>21026</th>\n",
       "      <td>728702</td>\n",
       "      <td>2017-01-03 07:20:47</td>\n",
       "      <td>new_page</td>\n",
       "      <td>0</td>\n",
       "    </tr>\n",
       "    <tr>\n",
       "      <th>21027</th>\n",
       "      <td>733865</td>\n",
       "      <td>2017-01-17 03:11:30</td>\n",
       "      <td>new_page</td>\n",
       "      <td>0</td>\n",
       "    </tr>\n",
       "  </tbody>\n",
       "</table>\n",
       "<p>21028 rows × 4 columns</p>\n",
       "</div>"
      ],
      "text/plain": [
       "       user_id            timestamp payment_page  is_convert\n",
       "0       918762  2017-01-16 11:54:05     old_page           0\n",
       "1       820814  2017-01-06 22:16:23     old_page           0\n",
       "2       829821  2017-01-03 13:10:13     old_page           0\n",
       "3       690313  2017-01-19 15:58:14     old_page           0\n",
       "4       674621  2017-01-09 18:16:08     old_page           0\n",
       "...        ...                  ...          ...         ...\n",
       "21023   638355  2017-01-18 10:11:10     new_page           0\n",
       "21024   677170  2017-01-03 04:06:42     new_page           0\n",
       "21025   918873  2017-01-07 07:02:49     new_page           0\n",
       "21026   728702  2017-01-03 07:20:47     new_page           0\n",
       "21027   733865  2017-01-17 03:11:30     new_page           0\n",
       "\n",
       "[21028 rows x 4 columns]"
      ]
     },
     "execution_count": 19,
     "metadata": {},
     "output_type": "execute_result"
    }
   ],
   "source": [
    "ab_test"
   ]
  },
  {
   "cell_type": "code",
   "execution_count": 20,
   "id": "b322745c",
   "metadata": {},
   "outputs": [
    {
     "name": "stdout",
     "output_type": "stream",
     "text": [
      "<class 'pandas.core.frame.DataFrame'>\n",
      "RangeIndex: 21028 entries, 0 to 21027\n",
      "Data columns (total 4 columns):\n",
      " #   Column        Non-Null Count  Dtype \n",
      "---  ------        --------------  ----- \n",
      " 0   user_id       21028 non-null  int64 \n",
      " 1   timestamp     21028 non-null  object\n",
      " 2   payment_page  21028 non-null  object\n",
      " 3   is_convert    21028 non-null  int64 \n",
      "dtypes: int64(2), object(2)\n",
      "memory usage: 657.2+ KB\n"
     ]
    }
   ],
   "source": [
    "ab_test.info()"
   ]
  },
  {
   "cell_type": "code",
   "execution_count": 21,
   "id": "34e08a50",
   "metadata": {},
   "outputs": [
    {
     "data": {
      "text/plain": [
       "old_page    10514\n",
       "new_page    10514\n",
       "Name: payment_page, dtype: int64"
      ]
     },
     "execution_count": 21,
     "metadata": {},
     "output_type": "execute_result"
    }
   ],
   "source": [
    "ab_test['payment_page'].value_counts()"
   ]
  },
  {
   "cell_type": "markdown",
   "id": "4ca35159",
   "metadata": {},
   "source": [
    "# ## 3. Visualising the results"
   ]
  },
  {
   "cell_type": "code",
   "execution_count": 33,
   "id": "a5f14235",
   "metadata": {},
   "outputs": [
    {
     "data": {
      "text/html": [
       "<style type=\"text/css\">\n",
       "</style>\n",
       "<table id=\"T_bd014_\">\n",
       "  <thead>\n",
       "    <tr>\n",
       "      <th class=\"blank level0\" >&nbsp;</th>\n",
       "      <th class=\"col_heading level0 col0\" >conversion_rate</th>\n",
       "      <th class=\"col_heading level0 col1\" >std_deviation</th>\n",
       "      <th class=\"col_heading level0 col2\" >std_error</th>\n",
       "    </tr>\n",
       "    <tr>\n",
       "      <th class=\"index_name level0\" >payment_page</th>\n",
       "      <th class=\"blank col0\" >&nbsp;</th>\n",
       "      <th class=\"blank col1\" >&nbsp;</th>\n",
       "      <th class=\"blank col2\" >&nbsp;</th>\n",
       "    </tr>\n",
       "  </thead>\n",
       "  <tbody>\n",
       "    <tr>\n",
       "      <th id=\"T_bd014_level0_row0\" class=\"row_heading level0 row0\" >new_page</th>\n",
       "      <td id=\"T_bd014_row0_col0\" class=\"data row0 col0\" >0.1207</td>\n",
       "      <td id=\"T_bd014_row0_col1\" class=\"data row0 col1\" >0.3258</td>\n",
       "      <td id=\"T_bd014_row0_col2\" class=\"data row0 col2\" >0.0032</td>\n",
       "    </tr>\n",
       "    <tr>\n",
       "      <th id=\"T_bd014_level0_row1\" class=\"row_heading level0 row1\" >old_page</th>\n",
       "      <td id=\"T_bd014_row1_col0\" class=\"data row1 col0\" >0.1210</td>\n",
       "      <td id=\"T_bd014_row1_col1\" class=\"data row1 col1\" >0.3261</td>\n",
       "      <td id=\"T_bd014_row1_col2\" class=\"data row1 col2\" >0.0032</td>\n",
       "    </tr>\n",
       "  </tbody>\n",
       "</table>\n"
      ],
      "text/plain": [
       "<pandas.io.formats.style.Styler at 0x2ef3339bd00>"
      ]
     },
     "execution_count": 33,
     "metadata": {},
     "output_type": "execute_result"
    }
   ],
   "source": [
    "conversion_rates = ab_test.groupby('payment_page')['is_convert']\n",
    "\n",
    "std_p = lambda x: np.std(x, ddof=0)              # Std. deviation of the proportion\n",
    "se_p = lambda x: stats.sem(x, ddof=0)            # Std. error of the proportion (std / sqrt(n))\n",
    "\n",
    "conversion_rates = conversion_rates.agg([np.mean, std_p, se_p])\n",
    "conversion_rates.columns = ['conversion_rate', 'std_deviation', 'std_error']\n",
    "\n",
    "\n",
    "conversion_rates.style.format('{:.4f}')"
   ]
  },
  {
   "cell_type": "markdown",
   "id": "0c283c91",
   "metadata": {},
   "source": [
    "Dilihat dari statistik di atas, sepertinya dua desain kami tampil sangat mirip, dengan desain baru kami berkinerja sedikit lebih baik, kira-kira. Tingkat konversi 12,3% vs. 12,6%.\n",
    "\n",
    "Merencanakan data akan membuat hasil ini lebih mudah dipahami:"
   ]
  },
  {
   "cell_type": "code",
   "execution_count": 26,
   "id": "131bf4e6",
   "metadata": {},
   "outputs": [
    {
     "data": {
      "image/png": "[encoded data removed]",
      "text/plain": [
       "<Figure size 576x432 with 1 Axes>"
      ]
     },
     "metadata": {},
     "output_type": "display_data"
    }
   ],
   "source": [
    "plt.figure(figsize=(8,6))\n",
    "\n",
    "sns.barplot(x=ab_test['payment_page'], y=ab_test['is_convert'], ci=False)\n",
    "\n",
    "plt.ylim(0, 0.17)\n",
    "plt.title('Conversion rate by payment_page', pad=20)\n",
    "plt.xlabel('payment_page', labelpad=15)\n",
    "plt.ylabel('Converted (proportion)', labelpad=15);"
   ]
  },
  {
   "cell_type": "markdown",
   "id": "d65cf275",
   "metadata": {},
   "source": [
    "Tingkat konversi untuk payment_page sangat dekat. Perhatikan juga bahwa rasio konversi grup `kontrol` lebih tinggi dari yang kita harapkan. Tingkat konversi (12,1% vs. 12,0%). \n",
    "\n",
    "Jadi... nilai kelompok `kontrol` lebih tinggi. **Apakah perbedaan ini *signifikan secara statistik***?"
   ]
  },
  {
   "cell_type": "markdown",
   "id": "7f0a386d",
   "metadata": {},
   "source": [
    " ## 4. Testing the hypothesis"
   ]
  },
  {
   "cell_type": "code",
   "execution_count": 28,
   "id": "7a5c3342",
   "metadata": {},
   "outputs": [],
   "source": [
    "from statsmodels.stats.proportion import proportions_ztest, proportion_confint"
   ]
  },
  {
   "cell_type": "code",
   "execution_count": 30,
   "id": "4e9bae2b",
   "metadata": {},
   "outputs": [],
   "source": [
    "control_results = ab_test[ab_test['payment_page'] == 'old_page']['is_convert']\n",
    "treatment_results = ab_test[ab_test['payment_page'] == 'new_page']['is_convert']"
   ]
  },
  {
   "cell_type": "code",
   "execution_count": 31,
   "id": "0730dc32",
   "metadata": {},
   "outputs": [
    {
     "name": "stdout",
     "output_type": "stream",
     "text": [
      "z statistic: 0.06\n",
      "p-value: 0.949\n",
      "ci 95% for control group: [0.115, 0.127]\n",
      "ci 95% for treatment group: [0.114, 0.127]\n"
     ]
    }
   ],
   "source": [
    "n_con = control_results.count()\n",
    "n_treat = treatment_results.count()\n",
    "successes = [control_results.sum(), treatment_results.sum()]\n",
    "nobs = [n_con, n_treat]\n",
    "\n",
    "z_stat, pval = proportions_ztest(successes, nobs=nobs)\n",
    "(lower_con, lower_treat), (upper_con, upper_treat) = proportion_confint(successes, nobs=nobs, alpha=0.05)\n",
    "\n",
    "print(f'z statistic: {z_stat:.2f}')\n",
    "print(f'p-value: {pval:.3f}')\n",
    "print(f'ci 95% for control group: [{lower_con:.3f}, {upper_con:.3f}]')\n",
    "print(f'ci 95% for treatment group: [{lower_treat:.3f}, {upper_treat:.3f}]')"
   ]
  },
  {
   "cell_type": "markdown",
   "id": "d5c9afdb",
   "metadata": {},
   "source": [
    "# Analisa dan Kesimpulan\n",
    "'''Karena $p$-value=0.949 kami di atas $\\alpha$=0,05 kami, kami tidak dapat menolak hipotesis nol $H_0$, \n",
    "yang berarti bahwa desain baru kami tidak berkinerja secara signifikan dibandingkan tampilan lama.'''\n",
    "\n",
    "1. confidence interval control group hanya berkisar antara 11,5% - 12,7%\n",
    "2. confidence interval treatment group 11,4% - 12,7% lebih rendah dari control group\n",
    "\n",
    "Kesimpulannya, desain lama berpontensi mengalami penurunan kinerja sampai 11,7% dan treatment group perlu disesuaikan sampai mendapatkan target yang diharapkan yaitu 14%. "
   ]
  },
  {
   "cell_type": "code",
   "execution_count": null,
   "id": "7f4aea6f",
   "metadata": {},
   "outputs": [],
   "source": []
  }
 ],
 "metadata": {
  "kernelspec": {
   "display_name": "Python 3 (ipykernel)",
   "language": "python",
   "name": "python3"
  },
  "language_info": {
   "codemirror_mode": {
    "name": "ipython",
    "version": 3
   },
   "file_extension": ".py",
   "mimetype": "text/x-python",
   "name": "python",
   "nbconvert_exporter": "python",
   "pygments_lexer": "ipython3",
   "version": "3.9.7"
  }
 },
 "nbformat": 4,
 "nbformat_minor": 5
}
